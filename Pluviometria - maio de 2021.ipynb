{
 "cells": [
  {
   "cell_type": "markdown",
   "metadata": {},
   "source": [
    "Utilizando as pluviometrias das capitais dos estados. Peguei os valores de http://clima1.cptec.inpe.br/estacoes/pt#, para o mês de maio de 2021."
   ]
  },
  {
   "cell_type": "code",
   "execution_count": 1,
   "metadata": {},
   "outputs": [],
   "source": [
    "import pandas as pd\n",
    "import numpy as np\n",
    "import matplotlib.pyplot as plt\n",
    "%matplotlib inline\n",
    "import seaborn as sns"
   ]
  },
  {
   "cell_type": "code",
   "execution_count": 2,
   "metadata": {},
   "outputs": [],
   "source": [
    "mapa_pluviometria = {\n",
    "'AC': {'value': 101.8, 'border': ['AM']},\n",
    "'AL': {'value': 340.7, 'border': ['BA', 'SE', 'PE']},\n",
    "'AP': {'value': 351.5, 'border': ['AM', 'PA']},\n",
    "'AM': {'value': 256.3, 'border': ['AC', 'RR', 'RO', 'MT', 'PA']},\n",
    "'BA': {'value': 324.8, 'border': ['ES', 'MG', 'GO', 'TO', 'PI', 'PE', 'AL', 'SE']},\n",
    "'CE': {'value': 226.1, 'border': ['PI', 'RN', 'PB', 'PE']},\n",
    "'DF': {'value': 39.3, 'border': ['GO', 'MG']},\n",
    "'ES': {'value': -1, 'border': ['RJ', 'BA', 'MG']},\n",
    "'GO': {'value': 36.4, 'border': ['TO', 'BA', 'MG', 'MS', 'MT', 'DF']},\n",
    "'MA': {'value': 319.8, 'border': ['PA', 'TO', 'PI']},\n",
    "'MT': {'value': 53.9, 'border': ['RO', 'AM', 'PA', 'TO', 'GO', 'MS']},\n",
    "'MS': {'value': 111.4, 'border': ['MT', 'GO', 'SP', 'PR']},\n",
    "'MG': {'value': 39.3, 'border': ['GO', 'MS', 'SP', 'ES', 'RJ', 'BA']},\n",
    "'PA': {'value': 304.4, 'border': ['AP', 'RR', 'AM', 'MT', 'TO', 'MA']},\n",
    "'PB': {'value': 307.9, 'border': ['RN', 'CE', 'PE']},\n",
    "'PR': {'value': 99.2, 'border': ['SP', 'MS', 'SC']},\n",
    "'PE': {'value': 328.9, 'border': ['BA', 'CE', 'PI', 'PB', 'AL']},\n",
    "'PI': {'value': 109.5, 'border': ['MA', 'BA', 'PE', 'TO', 'CE']},\n",
    "'RJ': {'value': 85.6, 'border': ['SP', 'MG', 'ES']},\n",
    "'RN': {'value': 172.2, 'border': ['CE', 'PB']},\n",
    "'RS': {'value': 94.6, 'border': ['SC']},\n",
    "'RO': {'value': 118, 'border': ['AM', 'AC', 'MT']},\n",
    "'RR': {'value': -1, 'border': ['PA', 'AM']},\n",
    "'SC': {'value': 96.9, 'border': ['PR', 'RS']},\n",
    "'SP': {'value': 73.6, 'border': ['MS', 'PR', 'RJ', 'MG']},\n",
    "'SE': {'value': 272.7, 'border': ['BA', 'AL']},\n",
    "'TO': {'value': 37.5, 'border': ['BA', 'GO', 'MT', 'PA', 'MA', 'PI']}\n",
    "}"
   ]
  },
  {
   "cell_type": "markdown",
   "metadata": {},
   "source": [
    "ES e RR não têm valores no site. Vou imputar a média das pluviometrias dos estados brasileiros. "
   ]
  },
  {
   "cell_type": "code",
   "execution_count": 3,
   "metadata": {},
   "outputs": [
    {
     "name": "stdout",
     "output_type": "stream",
     "text": [
      "AC\n",
      "101.8\n",
      "AL\n",
      "340.7\n",
      "AP\n",
      "351.5\n",
      "AM\n",
      "256.3\n",
      "BA\n",
      "324.8\n",
      "CE\n",
      "226.1\n",
      "DF\n",
      "39.3\n",
      "GO\n",
      "36.4\n",
      "MA\n",
      "319.8\n",
      "MT\n",
      "53.9\n",
      "MS\n",
      "111.4\n",
      "MG\n",
      "27.8\n",
      "PA\n",
      "304.4\n",
      "PB\n",
      "307.9\n",
      "PR\n",
      "99.2\n",
      "PE\n",
      "328.9\n",
      "PI\n",
      "109.5\n",
      "RJ\n",
      "85.6\n",
      "RN\n",
      "172.2\n",
      "RS\n",
      "94.6\n",
      "RO\n",
      "118\n",
      "SC\n",
      "96.9\n",
      "SP\n",
      "73.6\n",
      "SE\n",
      "272.7\n",
      "TO\n",
      "37.5\n"
     ]
    }
   ],
   "source": [
    "soma = 0.0\n",
    "for estado in mapa_pluviometria.keys():\n",
    "    if mapa_pluviometria[estado]['value'] > 0:\n",
    "        print(estado)\n",
    "        print(mapa_pluviometria[estado]['value'])\n",
    "        soma = soma + mapa_pluviometria[estado]['value']\n",
    "media = soma / len(mapa_pluviometria)"
   ]
  },
  {
   "cell_type": "code",
   "execution_count": 4,
   "metadata": {},
   "outputs": [
    {
     "data": {
      "text/plain": [
       "158.91851851851854"
      ]
     },
     "execution_count": 4,
     "metadata": {},
     "output_type": "execute_result"
    }
   ],
   "source": [
    "media"
   ]
  },
  {
   "cell_type": "code",
   "execution_count": 5,
   "metadata": {},
   "outputs": [],
   "source": [
    "mapa_pluviometria['ES']['value'] = media\n",
    "mapa_pluviometria['RR']['value'] = media"
   ]
  },
  {
   "cell_type": "markdown",
   "metadata": {},
   "source": [
    "Agora, calculo os _lags_ para cada estado."
   ]
  },
  {
   "cell_type": "code",
   "execution_count": 6,
   "metadata": {},
   "outputs": [
    {
     "data": {
      "text/html": [
       "<div>\n",
       "<style scoped>\n",
       "    .dataframe tbody tr th:only-of-type {\n",
       "        vertical-align: middle;\n",
       "    }\n",
       "\n",
       "    .dataframe tbody tr th {\n",
       "        vertical-align: top;\n",
       "    }\n",
       "\n",
       "    .dataframe thead th {\n",
       "        text-align: right;\n",
       "    }\n",
       "</style>\n",
       "<table border=\"1\" class=\"dataframe\">\n",
       "  <thead>\n",
       "    <tr style=\"text-align: right;\">\n",
       "      <th></th>\n",
       "      <th>estado</th>\n",
       "      <th>pluviometria</th>\n",
       "      <th>pluviometria_lag</th>\n",
       "    </tr>\n",
       "  </thead>\n",
       "  <tbody>\n",
       "    <tr>\n",
       "      <th>0</th>\n",
       "      <td>AC</td>\n",
       "      <td>101.8</td>\n",
       "      <td>256.3</td>\n",
       "    </tr>\n",
       "    <tr>\n",
       "      <th>1</th>\n",
       "      <td>AL</td>\n",
       "      <td>340.7</td>\n",
       "      <td>308.8</td>\n",
       "    </tr>\n",
       "    <tr>\n",
       "      <th>2</th>\n",
       "      <td>AP</td>\n",
       "      <td>351.5</td>\n",
       "      <td>280.35</td>\n",
       "    </tr>\n",
       "    <tr>\n",
       "      <th>3</th>\n",
       "      <td>AM</td>\n",
       "      <td>256.3</td>\n",
       "      <td>147.404</td>\n",
       "    </tr>\n",
       "    <tr>\n",
       "      <th>4</th>\n",
       "      <td>BA</td>\n",
       "      <td>324.8</td>\n",
       "      <td>164.052</td>\n",
       "    </tr>\n",
       "    <tr>\n",
       "      <th>5</th>\n",
       "      <td>CE</td>\n",
       "      <td>226.1</td>\n",
       "      <td>229.625</td>\n",
       "    </tr>\n",
       "    <tr>\n",
       "      <th>6</th>\n",
       "      <td>DF</td>\n",
       "      <td>39.3</td>\n",
       "      <td>32.1</td>\n",
       "    </tr>\n",
       "    <tr>\n",
       "      <th>7</th>\n",
       "      <td>ES</td>\n",
       "      <td>158.919</td>\n",
       "      <td>146.067</td>\n",
       "    </tr>\n",
       "    <tr>\n",
       "      <th>8</th>\n",
       "      <td>GO</td>\n",
       "      <td>36.4</td>\n",
       "      <td>99.1167</td>\n",
       "    </tr>\n",
       "    <tr>\n",
       "      <th>9</th>\n",
       "      <td>MA</td>\n",
       "      <td>319.8</td>\n",
       "      <td>150.467</td>\n",
       "    </tr>\n",
       "    <tr>\n",
       "      <th>10</th>\n",
       "      <td>MT</td>\n",
       "      <td>53.9</td>\n",
       "      <td>144</td>\n",
       "    </tr>\n",
       "    <tr>\n",
       "      <th>11</th>\n",
       "      <td>MS</td>\n",
       "      <td>111.4</td>\n",
       "      <td>65.775</td>\n",
       "    </tr>\n",
       "    <tr>\n",
       "      <th>12</th>\n",
       "      <td>MG</td>\n",
       "      <td>27.8</td>\n",
       "      <td>131.786</td>\n",
       "    </tr>\n",
       "    <tr>\n",
       "      <th>13</th>\n",
       "      <td>PA</td>\n",
       "      <td>304.4</td>\n",
       "      <td>196.32</td>\n",
       "    </tr>\n",
       "    <tr>\n",
       "      <th>14</th>\n",
       "      <td>PB</td>\n",
       "      <td>307.9</td>\n",
       "      <td>242.4</td>\n",
       "    </tr>\n",
       "    <tr>\n",
       "      <th>15</th>\n",
       "      <td>PR</td>\n",
       "      <td>99.2</td>\n",
       "      <td>93.9667</td>\n",
       "    </tr>\n",
       "    <tr>\n",
       "      <th>16</th>\n",
       "      <td>PE</td>\n",
       "      <td>328.9</td>\n",
       "      <td>261.8</td>\n",
       "    </tr>\n",
       "    <tr>\n",
       "      <th>17</th>\n",
       "      <td>PI</td>\n",
       "      <td>109.5</td>\n",
       "      <td>247.42</td>\n",
       "    </tr>\n",
       "    <tr>\n",
       "      <th>18</th>\n",
       "      <td>RJ</td>\n",
       "      <td>85.6</td>\n",
       "      <td>86.7728</td>\n",
       "    </tr>\n",
       "    <tr>\n",
       "      <th>19</th>\n",
       "      <td>RN</td>\n",
       "      <td>172.2</td>\n",
       "      <td>267</td>\n",
       "    </tr>\n",
       "    <tr>\n",
       "      <th>20</th>\n",
       "      <td>RS</td>\n",
       "      <td>94.6</td>\n",
       "      <td>96.9</td>\n",
       "    </tr>\n",
       "    <tr>\n",
       "      <th>21</th>\n",
       "      <td>RO</td>\n",
       "      <td>118</td>\n",
       "      <td>137.333</td>\n",
       "    </tr>\n",
       "    <tr>\n",
       "      <th>22</th>\n",
       "      <td>RR</td>\n",
       "      <td>158.919</td>\n",
       "      <td>280.35</td>\n",
       "    </tr>\n",
       "    <tr>\n",
       "      <th>23</th>\n",
       "      <td>SC</td>\n",
       "      <td>96.9</td>\n",
       "      <td>96.9</td>\n",
       "    </tr>\n",
       "    <tr>\n",
       "      <th>24</th>\n",
       "      <td>SP</td>\n",
       "      <td>73.6</td>\n",
       "      <td>81</td>\n",
       "    </tr>\n",
       "    <tr>\n",
       "      <th>25</th>\n",
       "      <td>SE</td>\n",
       "      <td>272.7</td>\n",
       "      <td>332.75</td>\n",
       "    </tr>\n",
       "    <tr>\n",
       "      <th>26</th>\n",
       "      <td>TO</td>\n",
       "      <td>37.5</td>\n",
       "      <td>191.467</td>\n",
       "    </tr>\n",
       "  </tbody>\n",
       "</table>\n",
       "</div>"
      ],
      "text/plain": [
       "   estado pluviometria pluviometria_lag\n",
       "0      AC        101.8            256.3\n",
       "1      AL        340.7            308.8\n",
       "2      AP        351.5           280.35\n",
       "3      AM        256.3          147.404\n",
       "4      BA        324.8          164.052\n",
       "5      CE        226.1          229.625\n",
       "6      DF         39.3             32.1\n",
       "7      ES      158.919          146.067\n",
       "8      GO         36.4          99.1167\n",
       "9      MA        319.8          150.467\n",
       "10     MT         53.9              144\n",
       "11     MS        111.4           65.775\n",
       "12     MG         27.8          131.786\n",
       "13     PA        304.4           196.32\n",
       "14     PB        307.9            242.4\n",
       "15     PR         99.2          93.9667\n",
       "16     PE        328.9            261.8\n",
       "17     PI        109.5           247.42\n",
       "18     RJ         85.6          86.7728\n",
       "19     RN        172.2              267\n",
       "20     RS         94.6             96.9\n",
       "21     RO          118          137.333\n",
       "22     RR      158.919           280.35\n",
       "23     SC         96.9             96.9\n",
       "24     SP         73.6               81\n",
       "25     SE        272.7           332.75\n",
       "26     TO         37.5          191.467"
      ]
     },
     "execution_count": 6,
     "metadata": {},
     "output_type": "execute_result"
    }
   ],
   "source": [
    "tabela_lags = pd.DataFrame(columns=['estado', 'pluviometria', 'pluviometria_lag'])\n",
    "\n",
    "for i, estado in enumerate(mapa_pluviometria.keys()):\n",
    "    val = mapa_pluviometria[estado]['value']\n",
    "    border = mapa_pluviometria[estado]['border']\n",
    "    soma = 0.0\n",
    "    for estado_borda in border:\n",
    "        val_border = mapa_pluviometria[estado_borda]['value']\n",
    "        soma = soma + val_border\n",
    "    media = soma / len(border)\n",
    "    tabela_lags.loc[i, 'estado'] = estado\n",
    "    tabela_lags.loc[i, 'pluviometria'] = val\n",
    "    tabela_lags.loc[i, 'pluviometria_lag'] = media\n",
    "\n",
    "tabela_lags"
   ]
  },
  {
   "cell_type": "markdown",
   "metadata": {},
   "source": [
    "Fazemos o fit de uma reta, minimizando o RSS (basta utilizar o `LinearRegression` da biblioteca _sklearn_)."
   ]
  },
  {
   "cell_type": "code",
   "execution_count": 7,
   "metadata": {},
   "outputs": [
    {
     "data": {
      "text/plain": [
       "LinearRegression()"
      ]
     },
     "execution_count": 7,
     "metadata": {},
     "output_type": "execute_result"
    }
   ],
   "source": [
    "from sklearn.linear_model import LinearRegression\n",
    "model = LinearRegression()\n",
    "model.fit(tabela_lags[['pluviometria']], tabela_lags[['pluviometria_lag']])"
   ]
  },
  {
   "cell_type": "code",
   "execution_count": 8,
   "metadata": {},
   "outputs": [
    {
     "data": {
      "text/plain": [
       "array([[0.4531569]])"
      ]
     },
     "execution_count": 8,
     "metadata": {},
     "output_type": "execute_result"
    }
   ],
   "source": [
    "model.coef_"
   ]
  },
  {
   "cell_type": "code",
   "execution_count": 9,
   "metadata": {},
   "outputs": [
    {
     "data": {
      "text/plain": [
       "array([99.25133396])"
      ]
     },
     "execution_count": 9,
     "metadata": {},
     "output_type": "execute_result"
    }
   ],
   "source": [
    "model.intercept_"
   ]
  },
  {
   "cell_type": "code",
   "execution_count": 10,
   "metadata": {},
   "outputs": [],
   "source": [
    "# Função encontrada em https://stackoverflow.com/questions/7941226/how-to-add-line-based-on-slope-and-intercept-in-matplotlib\n",
    "# para plotar uma reta, dada o intercepto e o coeficiente\n",
    "def abline(slope, intercept):\n",
    "    \"\"\"Plot a line from slope and intercept\"\"\"\n",
    "    axes = plt.gca()\n",
    "    x_vals = np.array(axes.get_xlim())\n",
    "    y_vals = intercept + slope * x_vals\n",
    "    plt.plot(x_vals, y_vals, '-')"
   ]
  },
  {
   "cell_type": "code",
   "execution_count": 11,
   "metadata": {},
   "outputs": [
    {
     "data": {
      "image/png": "[encoded data removed]",
      "text/plain": [
       "<Figure size 432x288 with 1 Axes>"
      ]
     },
     "metadata": {
      "needs_background": "light"
     },
     "output_type": "display_data"
    }
   ],
   "source": [
    "graphic = sns.scatterplot(data=tabela_lags, x=\"pluviometria\", y=\"pluviometria_lag\")\n",
    "for line in range(0,tabela_lags.shape[0]):\n",
    "     graphic.text(tabela_lags['pluviometria'][line]+5, tabela_lags['pluviometria_lag'][line], tabela_lags['estado'][line], horizontalalignment='left', size='medium', color='black', weight='semibold')\n",
    "abline(model.coef_[0], model.intercept_[0])"
   ]
  },
  {
   "cell_type": "markdown",
   "metadata": {},
   "source": [
    "`Moran's I = 0.4531569`\n",
    "\n",
    "Ou seja, existe autocorrelação espacial na variável \"pluviometria\"."
   ]
  },
  {
   "cell_type": "markdown",
   "metadata": {},
   "source": [
    "Melhorias possiveis:\n",
    "\n",
    "- Utilizar a pluviometria de todos os municípios brasileiros, não somente as capitais\n",
    "- Ponderar o cálculo do _lag_ pelas distâncias entre os centroides. Na prática, o calculo do Moran's I é feito com essa ponderação."
   ]
  }
 ],
 "metadata": {
  "kernelspec": {
   "display_name": "Python 3",
   "language": "python",
   "name": "python3"
  },
  "language_info": {
   "codemirror_mode": {
    "name": "ipython",
    "version": 3
   },
   "file_extension": ".py",
   "mimetype": "text/x-python",
   "name": "python",
   "nbconvert_exporter": "python",
   "pygments_lexer": "ipython3",
   "version": "3.7.4"
  }
 },
 "nbformat": 4,
 "nbformat_minor": 4
}
